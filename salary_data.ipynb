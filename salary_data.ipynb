{
 "cells": [
  {
   "cell_type": "code",
   "execution_count": 6,
   "metadata": {},
   "outputs": [],
   "source": [
    "# Dependencies\n",
    "import pandas as pd\n"
   ]
  },
  {
   "cell_type": "code",
   "execution_count": 33,
   "metadata": {},
   "outputs": [
    {
     "data": {
      "text/html": [
       "<div>\n",
       "<style scoped>\n",
       "    .dataframe tbody tr th:only-of-type {\n",
       "        vertical-align: middle;\n",
       "    }\n",
       "\n",
       "    .dataframe tbody tr th {\n",
       "        vertical-align: top;\n",
       "    }\n",
       "\n",
       "    .dataframe thead th {\n",
       "        text-align: right;\n",
       "    }\n",
       "</style>\n",
       "<table border=\"1\" class=\"dataframe\">\n",
       "  <thead>\n",
       "    <tr style=\"text-align: right;\">\n",
       "      <th></th>\n",
       "      <th>PICK</th>\n",
       "      <th>TEAM</th>\n",
       "      <th>PLAYER</th>\n",
       "      <th>TOTAL CONTRACT</th>\n",
       "      <th>SIGNING BONUS</th>\n",
       "    </tr>\n",
       "  </thead>\n",
       "  <tbody>\n",
       "    <tr>\n",
       "      <th>0</th>\n",
       "      <td>1.0</td>\n",
       "      <td>Bengals</td>\n",
       "      <td>Joe Burrow</td>\n",
       "      <td>$36.0 million</td>\n",
       "      <td>$23.9 million</td>\n",
       "    </tr>\n",
       "    <tr>\n",
       "      <th>1</th>\n",
       "      <td>2.0</td>\n",
       "      <td>Redskins</td>\n",
       "      <td>Chase Young</td>\n",
       "      <td>$34.6 million</td>\n",
       "      <td>$22.7 million</td>\n",
       "    </tr>\n",
       "    <tr>\n",
       "      <th>2</th>\n",
       "      <td>3.0</td>\n",
       "      <td>Lions</td>\n",
       "      <td>Jeff Okudah</td>\n",
       "      <td>$33.5 million</td>\n",
       "      <td>$21.9 million</td>\n",
       "    </tr>\n",
       "    <tr>\n",
       "      <th>3</th>\n",
       "      <td>4.0</td>\n",
       "      <td>Giants</td>\n",
       "      <td>Andrew Thomas</td>\n",
       "      <td>$32.3 million</td>\n",
       "      <td>$21.1 million</td>\n",
       "    </tr>\n",
       "    <tr>\n",
       "      <th>4</th>\n",
       "      <td>5.0</td>\n",
       "      <td>Dolphins</td>\n",
       "      <td>Tua Tagovailoa</td>\n",
       "      <td>$30.3 million</td>\n",
       "      <td>$19.6 million</td>\n",
       "    </tr>\n",
       "  </tbody>\n",
       "</table>\n",
       "</div>"
      ],
      "text/plain": [
       "   PICK      TEAM          PLAYER TOTAL CONTRACT  SIGNING BONUS\n",
       "0   1.0   Bengals      Joe Burrow  $36.0 million  $23.9 million\n",
       "1   2.0  Redskins     Chase Young  $34.6 million  $22.7 million\n",
       "2   3.0     Lions     Jeff Okudah  $33.5 million  $21.9 million\n",
       "3   4.0    Giants   Andrew Thomas  $32.3 million  $21.1 million\n",
       "4   5.0  Dolphins  Tua Tagovailoa  $30.3 million  $19.6 million"
      ]
     },
     "execution_count": 33,
     "metadata": {},
     "output_type": "execute_result"
    }
   ],
   "source": [
    "salary_data = pd.read_csv(\"data-draft-salaries.csv\")\n",
    "salary_data.head()"
   ]
  },
  {
   "cell_type": "code",
   "execution_count": 29,
   "metadata": {},
   "outputs": [
    {
     "data": {
      "text/html": [
       "<div>\n",
       "<style scoped>\n",
       "    .dataframe tbody tr th:only-of-type {\n",
       "        vertical-align: middle;\n",
       "    }\n",
       "\n",
       "    .dataframe tbody tr th {\n",
       "        vertical-align: top;\n",
       "    }\n",
       "\n",
       "    .dataframe thead th {\n",
       "        text-align: right;\n",
       "    }\n",
       "</style>\n",
       "<table border=\"1\" class=\"dataframe\">\n",
       "  <thead>\n",
       "    <tr style=\"text-align: right;\">\n",
       "      <th></th>\n",
       "      <th>PICK</th>\n",
       "      <th>TEAM</th>\n",
       "      <th>PLAYER</th>\n",
       "      <th>TOTAL CONTRACT</th>\n",
       "      <th>SIGNING BONUS</th>\n",
       "    </tr>\n",
       "  </thead>\n",
       "  <tbody>\n",
       "    <tr>\n",
       "      <th>0</th>\n",
       "      <td>1.0</td>\n",
       "      <td>Bengals</td>\n",
       "      <td>Joe Burrow</td>\n",
       "      <td>$36.0 million</td>\n",
       "      <td>$23.9 million</td>\n",
       "    </tr>\n",
       "    <tr>\n",
       "      <th>1</th>\n",
       "      <td>2.0</td>\n",
       "      <td>Redskins</td>\n",
       "      <td>Chase Young</td>\n",
       "      <td>$34.6 million</td>\n",
       "      <td>$22.7 million</td>\n",
       "    </tr>\n",
       "    <tr>\n",
       "      <th>2</th>\n",
       "      <td>3.0</td>\n",
       "      <td>Lions</td>\n",
       "      <td>Jeff Okudah</td>\n",
       "      <td>$33.5 million</td>\n",
       "      <td>$21.9 million</td>\n",
       "    </tr>\n",
       "    <tr>\n",
       "      <th>3</th>\n",
       "      <td>4.0</td>\n",
       "      <td>Giants</td>\n",
       "      <td>Andrew Thomas</td>\n",
       "      <td>$32.3 million</td>\n",
       "      <td>$21.1 million</td>\n",
       "    </tr>\n",
       "    <tr>\n",
       "      <th>4</th>\n",
       "      <td>5.0</td>\n",
       "      <td>Dolphins</td>\n",
       "      <td>Tua Tagovailoa</td>\n",
       "      <td>$30.3 million</td>\n",
       "      <td>$19.6 million</td>\n",
       "    </tr>\n",
       "  </tbody>\n",
       "</table>\n",
       "</div>"
      ],
      "text/plain": [
       "   PICK      TEAM          PLAYER TOTAL CONTRACT  SIGNING BONUS\n",
       "0   1.0   Bengals      Joe Burrow  $36.0 million  $23.9 million\n",
       "1   2.0  Redskins     Chase Young  $34.6 million  $22.7 million\n",
       "2   3.0     Lions     Jeff Okudah  $33.5 million  $21.9 million\n",
       "3   4.0    Giants   Andrew Thomas  $32.3 million  $21.1 million\n",
       "4   5.0  Dolphins  Tua Tagovailoa  $30.3 million  $19.6 million"
      ]
     },
     "execution_count": 29,
     "metadata": {},
     "output_type": "execute_result"
    }
   ],
   "source": [
    "salary_data.drop(df.columns[salary_data.columns.str.contains('unnamed',case = False)],axis = 0, inplace = True)\n",
    "salary_data.head()"
   ]
  },
  {
   "cell_type": "code",
   "execution_count": 34,
   "metadata": {},
   "outputs": [],
   "source": [
    "salary_data.to_html(\"salaryTable.html\")"
   ]
  },
  {
   "cell_type": "code",
   "execution_count": 35,
   "metadata": {},
   "outputs": [],
   "source": [
    "html_file = salary_data.to_html()"
   ]
  },
  {
   "cell_type": "code",
   "execution_count": null,
   "metadata": {},
   "outputs": [],
   "source": []
  }
 ],
 "metadata": {
  "kernelspec": {
   "display_name": "Python 3",
   "language": "python",
   "name": "python3"
  },
  "language_info": {
   "codemirror_mode": {
    "name": "ipython",
    "version": 3
   },
   "file_extension": ".py",
   "mimetype": "text/x-python",
   "name": "python",
   "nbconvert_exporter": "python",
   "pygments_lexer": "ipython3",
   "version": "3.7.7"
  }
 },
 "nbformat": 4,
 "nbformat_minor": 4
}
