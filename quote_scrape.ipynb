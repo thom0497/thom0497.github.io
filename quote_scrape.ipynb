{
 "cells": [
  {
   "cell_type": "code",
   "execution_count": 1,
   "metadata": {},
   "outputs": [],
   "source": [
    "# Dependencies\n",
    "from bs4 import BeautifulSoup\n",
    "import requests\n",
    "import pymongo\n",
    "import urllib\n",
    "import urllib.request\n",
    "from splinter import Browser\n",
    "import re\n",
    "from splinter.exceptions import ElementDoesNotExist\n",
    "import pandas as pd\n",
    "import csv\n",
    "import os"
   ]
  },
  {
   "cell_type": "code",
   "execution_count": 3,
   "metadata": {},
   "outputs": [],
   "source": [
    "executable_path = {'executable_path': 'chromedriver.exe'}\n",
    "browser = Browser('chrome', **executable_path, headless=False)"
   ]
  },
  {
   "cell_type": "code",
   "execution_count": 26,
   "metadata": {},
   "outputs": [],
   "source": [
    "quote_url = 'https://www.inc.com/mandy-antoniacci/28-of-the-greatest-quotes-from-nfl-legends.html'\n",
    "# quote_page = urllib.request.urlopen (quote_url)\n",
    "# quote_soup = BeautifulSoup(quote_page, 'lxml')\n",
    "browser.visit(quote_url)\n",
    "#quote_soup"
   ]
  },
  {
   "cell_type": "code",
   "execution_count": 100,
   "metadata": {},
   "outputs": [
    {
     "name": "stdout",
     "output_type": "stream",
     "text": [
      "[<li class=\"nav__item nav__item--newsletters\"><a href=\"https://www.inc.com/newsletters\" title=\"Continue to Newsletters on Inc.com\">Newsletters</a></li>, <li class=\"nav__item nav__item--lead\"><a href=\"https://www.inc.com/lead\" title=\"Continue to Lead on Inc.com\">Lead</a></li>, <li class=\"nav__item nav__item--innovate\"><a href=\"https://www.inc.com/innovate\" title=\"Continue to Innovate on Inc.com\">Innovate</a></li>, <li class=\"nav__item nav__item--grow\"><a href=\"https://www.inc.com/grow\" title=\"Continue to Grow on Inc.com\">Grow</a></li>, <li class=\"nav__item nav__item--hamburger\"><button type=\"button\"><span class=\"sc-AxirZ bhNfYY icon-container\"><svg class=\"icon-hamburger\" height=\"14\" viewbox=\"0 0 25 14\" width=\"25\" xmlns=\"http://www.w3.org/2000/svg\"><title>navigation</title><g fill=\"none\" fill-rule=\"evenodd\"><circle cx=\"16.5\" cy=\"5.5\" r=\"5\" stroke=\"#000\"></circle><path d=\"M20.5 9.5l3.877 3.877\" stroke=\"#000\"></path><path d=\"M0 3h8v1H0V3zm0 5h8v1H0V8zm0 5h15v1H0v-1z\" fill=\"#000\"></path></g></svg></span></button></li>, <li class=\"nav__item nav__item--account\"><a href=\"#\" title=\"Register or Login to your personal Inc.com account\"><span class=\"sc-AxirZ bhNfYY icon-container\"><svg class=\"icon-account\" height=\"14\" viewbox=\"0 0 12 14\" width=\"12\" xmlns=\"http://www.w3.org/2000/svg\"><g fill=\"#000\" fill-rule=\"nonzero\"><path d=\"M6.026 0a3.733 3.733 0 110 7.467 3.733 3.733 0 010-7.467zm0 1.005a2.728 2.728 0 100 5.457 2.728 2.728 0 000-5.457zM6.026 8.256a5.524 5.524 0 015.52 5.243l.008.286h-1.005a4.519 4.519 0 00-4.523-4.523 4.523 4.523 0 00-4.519 4.31l-.004.213H.497a5.528 5.528 0 015.529-5.529z\"></path></g></svg></span>Login</a></li>, <li class=\"nav__item nav__item--best industries\"><a href=\"https://www.inc.com/best-industries-2020.html\" title=\"Continue to Best industries on Inc.com\">Best industries</a></li>, <li class=\"nav__item nav__item--funding\"><a href=\"https://www.inc.com/money\" title=\"Continue to Funding on Inc.com\">Funding</a></li>, <li class=\"nav__item nav__item--incubators\"><a href=\"https://www.inc.com/incubators\" title=\"Continue to Incubators on Inc.com\">Incubators</a></li>, <li class=\"nav__item nav__item--business plans\"><a href=\"https://www.inc.com/business-plans\" title=\"Continue to Business Plans on Inc.com\">Business Plans</a></li>, <li class=\"nav__item nav__item--naming\"><a href=\"https://www.inc.com/naming\" title=\"Continue to Naming on Inc.com\">Naming</a></li>, <li class=\"nav__item nav__item--home-based business\"><a href=\"https://www.inc.com/home-based-business\" title=\"Continue to Home-Based Business on Inc.com\">Home-Based Business</a></li>, <li class=\"nav__item nav__item--the ups store view\"><a href=\"https://www.inc.com/theupsstore\" title=\"Continue to The Ups Store View on Inc.com\">The Ups Store View</a></li>, <li class=\"nav__item nav__item--strategy\"><a href=\"https://www.inc.com/strategy\" title=\"Continue to Strategy on Inc.com\">Strategy</a></li>, <li class=\"nav__item nav__item--operations\"><a href=\"https://www.inc.com/operations\" title=\"Continue to Operations on Inc.com\">Operations</a></li>, <li class=\"nav__item nav__item--sales\"><a href=\"https://www.inc.com/sales\" title=\"Continue to Sales on Inc.com\">Sales</a></li>, <li class=\"nav__item nav__item--marketing\"><a href=\"https://www.inc.com/marketing\" title=\"Continue to Marketing on Inc.com\">Marketing</a></li>, <li class=\"nav__item nav__item--customer service\"><a href=\"https://www.inc.com/customer-service\" title=\"Continue to Customer Service on Inc.com\">Customer Service</a></li>, <li class=\"nav__item nav__item--franchises\"><a href=\"https://www.inc.com/franchises\" title=\"Continue to Franchises on Inc.com\">Franchises</a></li>, <li class=\"nav__item nav__item--build\"><a href=\"https://www.inc.com/build\" title=\"Continue to Build on Inc.com\">Build</a></li>, <li class=\"nav__item nav__item--safeguards\"><a href=\"https://www.inc.com/safeguards\" rel=\"noindex,nofollow\" title=\"Continue to Safeguards on Inc.com\">Safeguards</a></li>, <li class=\"nav__item nav__item--peak performance\"><a href=\"https://www.inc.com/peak-performance\" title=\"Continue to Peak Performance on Inc.com\">Peak Performance</a></li>, <li class=\"nav__item nav__item--company culture\"><a href=\"https://www.inc.com/company-culture\" title=\"Continue to Company Culture on Inc.com\">Company Culture</a></li>, <li class=\"nav__item nav__item--public speaking\"><a href=\"https://www.inc.com/publicspeaking\" title=\"Continue to Public Speaking on Inc.com\">Public Speaking</a></li>, <li class=\"nav__item nav__item--hiring\"><a href=\"https://www.inc.com/hiring\" title=\"Continue to Hiring on Inc.com\">Hiring</a></li>, <li class=\"nav__item nav__item--hr/benefits\"><a href=\"https://www.inc.com/benefits-hr\" title=\"Continue to HR/Benefits on Inc.com\">HR/Benefits</a></li>, <li class=\"nav__item nav__item--women entrepreneurs\"><a href=\"https://www.inc.com/most-innovative-women-2019.html\" title=\"Continue to Women Entrepreneurs on Inc.com\">Women Entrepreneurs</a></li>, <li class=\"nav__item nav__item--productivity\"><a href=\"https://www.inc.com/productivity\" title=\"Continue to Productivity on Inc.com\">Productivity</a></li>, <li class=\"nav__item nav__item--rising stars\"><a href=\"https://www.inc.com/video/the-pros-and-cons-of-starting-up-in-your-20s-according-to-2-millennial-founders.html\" title=\"Continue to Rising Stars on Inc.com\">Rising Stars</a></li>, <li class=\"nav__item nav__item--creativity\"><a href=\"https://www.inc.com/creativity\" title=\"Continue to Creativity on Inc.com\">Creativity</a></li>, <li class=\"nav__item nav__item--invent\"><a href=\"https://www.inc.com/invent\" title=\"Continue to Invent on Inc.com\">Invent</a></li>, <li class=\"nav__item nav__item--design\"><a href=\"https://www.inc.com/design\" title=\"Continue to Design on Inc.com\">Design</a></li>, <li class=\"nav__item nav__item--pivot\"><a href=\"https://www.inc.com/pivot\" title=\"Continue to Pivot on Inc.com\">Pivot</a></li>, <li class=\"nav__item nav__item--cloud computing\"><a href=\"https://www.inc.com/cloud-computing\" title=\"Continue to Cloud Computing on Inc.com\">Cloud Computing</a></li>, <li class=\"nav__item nav__item--social media\"><a href=\"https://www.inc.com/social-media\" title=\"Continue to Social Media on Inc.com\">Social Media</a></li>, <li class=\"nav__item nav__item--security\"><a href=\"https://www.inc.com/security\" title=\"Continue to Security on Inc.com\">Security</a></li>, <li class=\"nav__item nav__item--data detectives\"><a href=\"https://www.inc.com/data-detectives\" title=\"Continue to Data Detectives on Inc.com\">Data Detectives</a></li>, <li class=\"nav__item nav__item--exit interview\"><a href=\"https://www.inc.com/exit-interview\" title=\"Continue to Exit Interview on Inc.com\">Exit Interview</a></li>, <li class=\"nav__item nav__item--personal capital\"><a href=\"https://www.inc.com/investing\" title=\"Continue to Personal Capital on Inc.com\">Personal Capital</a></li>, <li class=\"nav__item nav__item--bootstrapping\"><a href=\"https://www.inc.com/bootstrapping\" title=\"Continue to Bootstrapping on Inc.com\">Bootstrapping</a></li>, <li class=\"nav__item nav__item--crowdfunding\"><a href=\"https://www.inc.com/crowdfunding\" title=\"Continue to Crowdfunding on Inc.com\">Crowdfunding</a></li>, <li class=\"nav__item nav__item--venture capital\"><a href=\"https://www.inc.com/venture-capital\" title=\"Continue to Venture Capital on Inc.com\">Venture Capital</a></li>, <li class=\"nav__item nav__item--borrowing\"><a href=\"https://www.inc.com/debt-financing\" title=\"Continue to Borrowing on Inc.com\">Borrowing</a></li>, <li class=\"nav__item nav__item--business models\"><a href=\"https://www.inc.com/business-models\" title=\"Continue to Business Models on Inc.com\">Business Models</a></li>, <li class=\"nav__item nav__item--personal finance\"><a href=\"https://www.inc.com/personal-finance\" title=\"Continue to Personal Finance on Inc.com\">Personal Finance</a></li>, <li class=\"nav__item nav__item--inc. 5000 series: california\"><a href=\"https://www.inc.com/inc5000-series-california-2020.html\" title=\"Continue to Inc. 5000 Series: California on Inc.com\">Inc. 5000 Series: California</a></li>, <li class=\"nav__item nav__item--the 2019 us list\"><a href=\"https://www.inc.com/inc5000/2019/top-private-companies-2019-inc5000.html\" title=\"Continue to The 2019 US List on Inc.com\">The 2019 US List</a></li>, <li class=\"nav__item nav__item--the 2019 europe list\"><a href=\"https://www.inc.com/inc5000eu/list/2019\" title=\"Continue to The 2019 Europe List on Inc.com\">The 2019 Europe List</a></li>, <li class=\"nav__item nav__item--apply inc. 5000 us\"><a href=\"https://www.inc.com/inc5000/apply\" title=\"Continue to Apply Inc. 5000 US on Inc.com\">Apply Inc. 5000 US</a></li>, <li class=\"nav__item nav__item--apply inc. 5000 europe\"><a href=\"https://www.inc.com/inc5000/apply/europe\" title=\"Continue to Apply Inc. 5000 Europe on Inc.com\">Apply Inc. 5000 Europe</a></li>, <li class=\"nav__item nav__item--cox business\"><a href=\"https://www.inc.com/cox-business\" title=\"Continue to Cox Business on Inc.com\">Cox Business</a></li>, <li class=\"nav__item nav__item--deloitte\"><a href=\"https://www.inc.com/deloitte\" title=\"Continue to Deloitte on Inc.com\">Deloitte</a></li>, <li class=\"nav__item nav__item--intel\"><a href=\"https://www.inc.com/intel\" title=\"Continue to Intel on Inc.com\">Intel</a></li>, <li class=\"nav__item nav__item--ppg\"><a href=\"https://www.inc.com/ppg\" title=\"Continue to PPG on Inc.com\">PPG</a></li>, <li class=\"nav__item nav__item--the ups store view\"><a href=\"https://www.inc.com/theupsstore\" title=\"Continue to The UPS Store View on Inc.com\">The UPS Store View</a></li>, <li class=\"nav__item nav__item--whoop view\"><a href=\"https://www.inc.com/whoop\" title=\"Continue to Whoop View on Inc.com\">Whoop View</a></li>, <li class=\"nav__item nav__item--principal\"><a href=\"https://www.inc.com/principal\" title=\"Continue to Principal on Inc.com\">Principal</a></li>, <li class=\"nav__item nav__item--branded content\"><a href=\"/branded-content\" title=\"Continue to Branded Content on Inc.com\">Branded Content</a></li>, <li class=\"nav__item nav__item--watch\"><a href=\"https://www.inc.com/video\" title=\"Continue to Watch on Inc.com\">Watch</a></li>, <li class=\"nav__item nav__item--guides\"><a href=\"https://www.inc.com/guides-and-reviews\" title=\"Continue to Guides on Inc.com\">Guides</a></li>, <li><a href=\"https://www.facebook.com/Inc/\" title=\"Follow Inc.com on Facebook\"><svg height=\"16\" viewbox=\"0 0 16 16\" width=\"16\" xmlns=\"http://www.w3.org/2000/svg\"><title>Group 5</title><g fill=\"none\" fill-rule=\"evenodd\" opacity=\"0.6\"><path d=\"M16 8.049C16 3.604 12.418 0 8 0S0 3.604 0 8.049C0 12.066 2.925 15.396 6.75 16v-5.624H4.719V8.049H6.75V6.276c0-2.018 1.194-3.132 3.022-3.132.875 0 1.79.157 1.79.157v1.981h-1.008c-.994 0-1.304.62-1.304 1.257v1.51h2.219l-.355 2.327H9.25V16c3.825-.604 6.75-3.934 6.75-7.951\" fill=\"#000\"></path><path d=\"M11.58 10.346l.332-2.3H9.837V6.556c0-.63.29-1.242 1.22-1.242H12V3.355s-.856-.155-1.675-.155C8.616 3.2 7.5 4.301 7.5 6.294v1.753H5.6v2.299h1.9v5.557a7.098 7.098 0 002.337 0v-5.557h1.744z\" fill=\"#FFF\"></path></g></svg></a></li>, <li><a href=\"https://twitter.com/inc\" title=\"Follow Inc.com on Twitter\"><svg height=\"16\" viewbox=\"0 0 19 16\" width=\"19\" xmlns=\"http://www.w3.org/2000/svg\"><title>Group 3</title><defs><path d=\"M0 0h19v16H0z\" id=\"prefix__a\"></path></defs><g fill=\"none\" fill-rule=\"evenodd\" opacity=\"0.6\"><mask fill=\"#fff\" id=\"prefix__b\"><use xlink:href=\"#prefix__a\" xmlns:xlink=\"http://www.w3.org/1999/xlink\"></use></mask><path d=\"M16.763 2.53A4.024 4.024 0 0018.477.296 7.631 7.631 0 0116 1.275 3.825 3.825 0 0013.155 0c-2.15 0-3.897 1.809-3.897 4.039 0 .317.033.624.1.92-3.24-.17-6.11-1.775-8.035-4.222A4.143 4.143 0 00.796 2.77c0 1.4.688 2.637 1.734 3.362a3.799 3.799 0 01-1.767-.504v.05c0 1.958 1.344 3.59 3.128 3.96a3.635 3.635 0 01-1.027.142c-.25 0-.496-.024-.734-.072.496 1.604 1.935 2.773 3.641 2.804a7.649 7.649 0 01-5.77 1.675A10.772 10.772 0 005.974 16c7.171 0 11.091-6.154 11.091-11.492l-.01-.524A8.041 8.041 0 0019 1.893a7.56 7.56 0 01-2.238.636h.001z\" fill=\"#000\" mask=\"url(#prefix__b)\"></path></g></svg></a></li>, <li><a href=\"https://www.linkedin.com/company/7587/\" title=\"Follow Inc.com on LinkedIn\"><svg height=\"16\" viewbox=\"0 0 16 16\" width=\"16\" xmlns=\"http://www.w3.org/2000/svg\"><title>Fill 1</title><path d=\"M15.996 16h-3.31v-5.2c0-1.24-.025-2.829-1.724-2.829-1.725 0-1.989 1.347-1.989 2.74V16H5.659V5.318h3.182v1.457h.046c.443-.84 1.525-1.725 3.139-1.725C15.382 5.05 16 7.26 16 10.132V16h-.004zM1.921 3.86C.861 3.86 0 2.983 0 1.922a1.922 1.922 0 013.842 0c0 1.061-.86 1.94-1.921 1.94zM.264 16h3.317V5.318H.264V16z\" fill=\"#000\" fill-rule=\"evenodd\" opacity=\"0.6\"></path></svg></a></li>, <li><a href=\"https://www.instagram.com/incmagazine/\" title=\"Follow Inc.com on Instagram\"><svg height=\"19\" viewbox=\"0 0 20 19\" width=\"20\" xmlns=\"http://www.w3.org/2000/svg\"><title>Group 3</title><defs><path d=\"M0 0h19.034v18.21H0z\" id=\"prefix__a\"></path></defs><g fill=\"none\" fill-rule=\"evenodd\" opacity=\"0.6\"><mask fill=\"#fff\" id=\"prefix__b\"><use xlink:href=\"#prefix__a\" xmlns:xlink=\"http://www.w3.org/1999/xlink\"></use></mask><path d=\"M15.74 4.244c0 .603-.51 1.093-1.142 1.093-.63 0-1.142-.489-1.142-1.093 0-.603.511-1.093 1.142-1.093.631 0 1.142.49 1.142 1.093M9.517 12.14c1.752 0 3.173-1.359 3.173-3.035 0-1.676-1.42-3.035-3.173-3.035-1.752 0-3.173 1.36-3.173 3.035 0 1.676 1.42 3.035 3.173 3.035m0-7.71c2.7 0 4.888 2.093 4.888 4.675 0 2.581-2.188 4.675-4.888 4.675-2.699 0-4.888-2.094-4.888-4.675 0-2.582 2.188-4.675 4.888-4.675m0-2.789c-2.542 0-2.843.01-3.846.053-.928.04-1.432.19-1.767.313a2.958 2.958 0 00-1.094.681 2.82 2.82 0 00-.712 1.047c-.13.321-.285.803-.328 1.691-.046.96-.056 1.248-.056 3.68 0 2.43.01 2.718.056 3.678.042.888.197 1.37.328 1.69.173.426.38.73.712 1.048.333.32.65.516 1.094.681.335.125.84.272 1.767.313 1.004.043 1.305.053 3.846.053 2.542 0 2.843-.01 3.846-.053.928-.04 1.432-.189 1.767-.313a2.958 2.958 0 001.094-.68c.333-.32.54-.623.712-1.049.13-.32.285-.802.328-1.69.046-.96.056-1.248.056-3.679 0-2.43-.01-2.719-.056-3.679-.042-.888-.197-1.37-.328-1.69a2.82 2.82 0 00-.712-1.048 2.958 2.958 0 00-1.094-.68c-.335-.126-.839-.274-1.767-.314-1.004-.044-1.305-.053-3.846-.053m0-1.64c2.585 0 2.91.01 3.924.055 1.013.044 1.705.198 2.31.423a4.697 4.697 0 011.686 1.05 4.445 4.445 0 011.098 1.613c.235.58.396 1.241.442 2.21.046.971.057 1.281.057 3.754s-.01 2.783-.057 3.754c-.046.97-.207 1.631-.442 2.21a4.453 4.453 0 01-1.098 1.613 4.697 4.697 0 01-1.686 1.05c-.605.225-1.297.38-2.31.423-1.015.044-1.339.055-3.924.055s-2.909-.01-3.924-.055c-1.013-.044-1.705-.198-2.31-.423a4.697 4.697 0 01-1.686-1.05A4.445 4.445 0 01.5 15.07c-.235-.579-.396-1.24-.442-2.21C.011 11.89 0 11.58 0 9.105c0-2.473.011-2.783.057-3.754.046-.969.207-1.63.442-2.21a4.453 4.453 0 011.098-1.613A4.697 4.697 0 013.283.478C3.888.253 4.58.1 5.593.055 6.608.011 6.933 0 9.517 0\" fill=\"#000\" mask=\"url(#prefix__b)\"></path></g></svg></a></li>, <li><a href=\"https://www.youtube.com/user/incmagazine\" title=\"Follow Inc.com on YouTube\"><svg height=\"15\" viewbox=\"0 0 21 15\" width=\"21\" xmlns=\"http://www.w3.org/2000/svg\"><title>Group 3</title><defs><path d=\"M0 0h20.437v14.218H0z\" id=\"prefix__a\"></path></defs><g fill=\"none\" fill-rule=\"evenodd\" opacity=\"0.6\"><mask fill=\"#fff\" id=\"prefix__b\"><use xlink:href=\"#prefix__a\" xmlns:xlink=\"http://www.w3.org/1999/xlink\"></use></mask><path d=\"M20.233 3.067s-.2-1.393-.812-2.006c-.777-.805-1.648-.81-2.047-.856C14.513 0 10.223 0 10.223 0h-.01s-4.29 0-7.15.205c-.398.047-1.268.05-2.047.856-.611.613-.811 2.006-.811 2.006S0 4.703 0 6.339v1.534c0 1.636.204 3.272.204 3.272s.198 1.393.81 2.006c.78.805 1.8.78 2.255.864 1.636.155 6.949.203 6.949.203s4.294-.006 7.155-.211c.398-.047 1.269-.051 2.047-.857.613-.613.812-2.006.812-2.006s.204-1.635.204-3.272V6.338c0-1.635-.204-3.272-.204-3.272zM8.108 9.732L8.107 4.05l5.522 2.85-5.521 2.83z\" fill=\"#000\" mask=\"url(#prefix__b)\"></path></g></svg></a></li>, <li class=\"nav__item nav__item--help center\"><a href=\"https://incmagazine.zendesk.com/hc/en-us\" title=\"Continue to Help Center on Inc.com\">Help Center</a></li>, <li><a href=\"https://www.facebook.com/Inc/\" title=\"Follow Inc.com on Facebook\"><svg height=\"16\" viewbox=\"0 0 16 16\" width=\"16\" xmlns=\"http://www.w3.org/2000/svg\"><title>Group 5</title><g fill=\"none\" fill-rule=\"evenodd\" opacity=\"0.6\"><path d=\"M16 8.049C16 3.604 12.418 0 8 0S0 3.604 0 8.049C0 12.066 2.925 15.396 6.75 16v-5.624H4.719V8.049H6.75V6.276c0-2.018 1.194-3.132 3.022-3.132.875 0 1.79.157 1.79.157v1.981h-1.008c-.994 0-1.304.62-1.304 1.257v1.51h2.219l-.355 2.327H9.25V16c3.825-.604 6.75-3.934 6.75-7.951\" fill=\"#000\"></path><path d=\"M11.58 10.346l.332-2.3H9.837V6.556c0-.63.29-1.242 1.22-1.242H12V3.355s-.856-.155-1.675-.155C8.616 3.2 7.5 4.301 7.5 6.294v1.753H5.6v2.299h1.9v5.557a7.098 7.098 0 002.337 0v-5.557h1.744z\" fill=\"#FFF\"></path></g></svg></a></li>, <li><a href=\"https://twitter.com/inc\" title=\"Follow Inc.com on Twitter\"><svg height=\"16\" viewbox=\"0 0 19 16\" width=\"19\" xmlns=\"http://www.w3.org/2000/svg\"><title>Group 3</title><defs><path d=\"M0 0h19v16H0z\" id=\"prefix__a\"></path></defs><g fill=\"none\" fill-rule=\"evenodd\" opacity=\"0.6\"><mask fill=\"#fff\" id=\"prefix__b\"><use xlink:href=\"#prefix__a\" xmlns:xlink=\"http://www.w3.org/1999/xlink\"></use></mask><path d=\"M16.763 2.53A4.024 4.024 0 0018.477.296 7.631 7.631 0 0116 1.275 3.825 3.825 0 0013.155 0c-2.15 0-3.897 1.809-3.897 4.039 0 .317.033.624.1.92-3.24-.17-6.11-1.775-8.035-4.222A4.143 4.143 0 00.796 2.77c0 1.4.688 2.637 1.734 3.362a3.799 3.799 0 01-1.767-.504v.05c0 1.958 1.344 3.59 3.128 3.96a3.635 3.635 0 01-1.027.142c-.25 0-.496-.024-.734-.072.496 1.604 1.935 2.773 3.641 2.804a7.649 7.649 0 01-5.77 1.675A10.772 10.772 0 005.974 16c7.171 0 11.091-6.154 11.091-11.492l-.01-.524A8.041 8.041 0 0019 1.893a7.56 7.56 0 01-2.238.636h.001z\" fill=\"#000\" mask=\"url(#prefix__b)\"></path></g></svg></a></li>, <li><a href=\"https://www.linkedin.com/company/7587/\" title=\"Follow Inc.com on LinkedIn\"><svg height=\"16\" viewbox=\"0 0 16 16\" width=\"16\" xmlns=\"http://www.w3.org/2000/svg\"><title>Fill 1</title><path d=\"M15.996 16h-3.31v-5.2c0-1.24-.025-2.829-1.724-2.829-1.725 0-1.989 1.347-1.989 2.74V16H5.659V5.318h3.182v1.457h.046c.443-.84 1.525-1.725 3.139-1.725C15.382 5.05 16 7.26 16 10.132V16h-.004zM1.921 3.86C.861 3.86 0 2.983 0 1.922a1.922 1.922 0 013.842 0c0 1.061-.86 1.94-1.921 1.94zM.264 16h3.317V5.318H.264V16z\" fill=\"#000\" fill-rule=\"evenodd\" opacity=\"0.6\"></path></svg></a></li>, <li><a href=\"https://www.instagram.com/incmagazine/\" title=\"Follow Inc.com on Instagram\"><svg height=\"19\" viewbox=\"0 0 20 19\" width=\"20\" xmlns=\"http://www.w3.org/2000/svg\"><title>Group 3</title><defs><path d=\"M0 0h19.034v18.21H0z\" id=\"prefix__a\"></path></defs><g fill=\"none\" fill-rule=\"evenodd\" opacity=\"0.6\"><mask fill=\"#fff\" id=\"prefix__b\"><use xlink:href=\"#prefix__a\" xmlns:xlink=\"http://www.w3.org/1999/xlink\"></use></mask><path d=\"M15.74 4.244c0 .603-.51 1.093-1.142 1.093-.63 0-1.142-.489-1.142-1.093 0-.603.511-1.093 1.142-1.093.631 0 1.142.49 1.142 1.093M9.517 12.14c1.752 0 3.173-1.359 3.173-3.035 0-1.676-1.42-3.035-3.173-3.035-1.752 0-3.173 1.36-3.173 3.035 0 1.676 1.42 3.035 3.173 3.035m0-7.71c2.7 0 4.888 2.093 4.888 4.675 0 2.581-2.188 4.675-4.888 4.675-2.699 0-4.888-2.094-4.888-4.675 0-2.582 2.188-4.675 4.888-4.675m0-2.789c-2.542 0-2.843.01-3.846.053-.928.04-1.432.19-1.767.313a2.958 2.958 0 00-1.094.681 2.82 2.82 0 00-.712 1.047c-.13.321-.285.803-.328 1.691-.046.96-.056 1.248-.056 3.68 0 2.43.01 2.718.056 3.678.042.888.197 1.37.328 1.69.173.426.38.73.712 1.048.333.32.65.516 1.094.681.335.125.84.272 1.767.313 1.004.043 1.305.053 3.846.053 2.542 0 2.843-.01 3.846-.053.928-.04 1.432-.189 1.767-.313a2.958 2.958 0 001.094-.68c.333-.32.54-.623.712-1.049.13-.32.285-.802.328-1.69.046-.96.056-1.248.056-3.679 0-2.43-.01-2.719-.056-3.679-.042-.888-.197-1.37-.328-1.69a2.82 2.82 0 00-.712-1.048 2.958 2.958 0 00-1.094-.68c-.335-.126-.839-.274-1.767-.314-1.004-.044-1.305-.053-3.846-.053m0-1.64c2.585 0 2.91.01 3.924.055 1.013.044 1.705.198 2.31.423a4.697 4.697 0 011.686 1.05 4.445 4.445 0 011.098 1.613c.235.58.396 1.241.442 2.21.046.971.057 1.281.057 3.754s-.01 2.783-.057 3.754c-.046.97-.207 1.631-.442 2.21a4.453 4.453 0 01-1.098 1.613 4.697 4.697 0 01-1.686 1.05c-.605.225-1.297.38-2.31.423-1.015.044-1.339.055-3.924.055s-2.909-.01-3.924-.055c-1.013-.044-1.705-.198-2.31-.423a4.697 4.697 0 01-1.686-1.05A4.445 4.445 0 01.5 15.07c-.235-.579-.396-1.24-.442-2.21C.011 11.89 0 11.58 0 9.105c0-2.473.011-2.783.057-3.754.046-.969.207-1.63.442-2.21a4.453 4.453 0 011.098-1.613A4.697 4.697 0 013.283.478C3.888.253 4.58.1 5.593.055 6.608.011 6.933 0 9.517 0\" fill=\"#000\" mask=\"url(#prefix__b)\"></path></g></svg></a></li>, <li><a href=\"https://www.youtube.com/user/incmagazine\" title=\"Follow Inc.com on YouTube\"><svg height=\"15\" viewbox=\"0 0 21 15\" width=\"21\" xmlns=\"http://www.w3.org/2000/svg\"><title>Group 3</title><defs><path d=\"M0 0h20.437v14.218H0z\" id=\"prefix__a\"></path></defs><g fill=\"none\" fill-rule=\"evenodd\" opacity=\"0.6\"><mask fill=\"#fff\" id=\"prefix__b\"><use xlink:href=\"#prefix__a\" xmlns:xlink=\"http://www.w3.org/1999/xlink\"></use></mask><path d=\"M20.233 3.067s-.2-1.393-.812-2.006c-.777-.805-1.648-.81-2.047-.856C14.513 0 10.223 0 10.223 0h-.01s-4.29 0-7.15.205c-.398.047-1.268.05-2.047.856-.611.613-.811 2.006-.811 2.006S0 4.703 0 6.339v1.534c0 1.636.204 3.272.204 3.272s.198 1.393.81 2.006c.78.805 1.8.78 2.255.864 1.636.155 6.949.203 6.949.203s4.294-.006 7.155-.211c.398-.047 1.269-.051 2.047-.857.613-.613.812-2.006.812-2.006s.204-1.635.204-3.272V6.338c0-1.635-.204-3.272-.204-3.272zM8.108 9.732L8.107 4.05l5.522 2.85-5.521 2.83z\" fill=\"#000\" mask=\"url(#prefix__b)\"></path></g></svg></a></li>, <li class=\"social__item\"><a class=\"social__link\" href=\"//www.linkedin.com/shareArticle?mini=true&amp;url=https://www.inc.com/mandy-antoniacci/28-of-the-greatest-quotes-from-nfl-legends.html&amp;title=28 of the Greatest Quotes From NFL Legends&amp;summary=Find endless inspiration in the powerful oration of gridiron greats.&amp;source=Inc.com\" rel=\"noopener noreferrer\" target=\"_blank\"><span class=\"sc-AxirZ bhNfYY icon-container\"><svg class=\"icon-linkedin\" height=\"16\" viewbox=\"0 0 16 16\" width=\"16\" xmlns=\"http://www.w3.org/2000/svg\"><title>Shape</title><path d=\"M8.973 16H5.659V5.318h3.182v1.457h.047a3.5 3.5 0 013.138-1.725C15.519 5.05 16 7.493 16 10.132V16h-3.314v-5.2c0-1.194 0-2.829-1.724-2.829-1.753 0-1.989 1.385-1.989 2.74V16zm-5.392 0H.265V5.318h3.316V16zM1.921 3.861a1.931 1.931 0 11-.02-3.862 1.931 1.931 0 01.02 3.862z\" fill=\"#000\" fill-rule=\"nonzero\"></path></svg></span></a></li>, <li class=\"social__item\"><a class=\"social__link\" href=\"https://www.facebook.com/sharer/sharer.php?u=https://www.inc.com/mandy-antoniacci/28-of-the-greatest-quotes-from-nfl-legends.html\" rel=\"noopener noreferrer\" target=\"_blank\"><span class=\"sc-AxirZ bhNfYY icon-container\"><svg class=\"icon-facebook\" height=\"16\" viewbox=\"0 0 16 16\" width=\"16\" xmlns=\"http://www.w3.org/2000/svg\"><path d=\"M16 8c0-4.4-3.6-8-8-8S0 3.6 0 8c0 3.9 2.9 7.2 6.7 7.9v-5.6h-2V8h2V6.2c-.2-1.6 1-3 2.5-3.1h.5c.6 0 1.2.1 1.8.2v2h-1c-.6-.1-1.2.4-1.3 1V8h2.2l-.4 2.3H9.2v5.6c3.9-.6 6.8-4 6.8-7.9\"></path></svg></span></a></li>, <li class=\"social__item\"><a class=\"social__link\" href=\"https://twitter.com/intent/tweet?url=https://www.inc.com/mandy-antoniacci/28-of-the-greatest-quotes-from-nfl-legends.html&amp;text=28 Of The Greatest Quotes From NFL Legends @mandyantoniacci&amp;via=Inc\" rel=\"noopener noreferrer\" target=\"_blank\"><span class=\"sc-AxirZ bhNfYY icon-container\"><svg class=\"icon-twitter\" height=\"16\" viewbox=\"0 0 19 16\" width=\"19\" xmlns=\"http://www.w3.org/2000/svg\"><path d=\"M16.8 2.5c.8-.5 1.4-1.3 1.7-2.2-.8.5-1.6.8-2.5 1C15.3.5 14.2 0 13.2 0c-2.2 0-4 1.8-3.9 4 0 .3 0 .6.1.9-3.2-.2-6.1-1.7-8-4.2C1 1.4.8 2.1.8 2.8c0 1.3.6 2.6 1.7 3.4-.6 0-1.2-.2-1.8-.5v.1c0 1.9 1.3 3.5 3.1 4-.3.1-.7.1-1 .1-.2 0-.5 0-.7-.1.5 1.6 2 2.8 3.6 2.8-1.4 1.1-3.1 1.7-4.8 1.7-.3 0-.6 0-.9-.1C1.8 15.4 3.8 16 6 16c7.2 0 11.1-6.2 11.1-11.5V4c.8-.6 1.4-1.3 1.9-2.1-.7.3-1.5.5-2.2.6z\"></path></svg></span></a></li>, <li>\"It's not the SIZE of the dog in the fight, but the size of the FIGHT in the dog\". - <em>Archie Griffin, Cincinnati Bengals</em></li>, <li>\"When you're GOOD at something, you'll tell everyone. When you're GREAT at something, they'll tell you.\"- <em>Walter Payton, Chicago Bears</em></li>, <li>\"WINNING is not everything--but making the EFFORT to win is\"- <em>Vince Lombardi, Green Bay Packers</em></li>, <li>\"If what you did YESTERDAY seems big, you haven't done anything TODAY.\"- <em>Lou Holtz, New York Jets</em></li>, <li>\"A CHAMPION is simply someone who did NOT give up when they wanted to.\"- <em>Tom Landry, Dallas Cowboys</em></li>, <li>\"The man who complains about the way the ball BOUNCES is likely the one who DROPPED it.\" - <em>Lou Holtz</em></li>, <li>\"If it doesn't matter who WINS or loses, then why do they keep SCORE.\" - <em>Vince Lombardi</em></li>, <li>\"Your TALENT determines what you can do. Your MOTIVATION determines how much you are willing to do. Your ATTITUDE determines how well you do it.\" - <em>Lou Holtz</em></li>, <li>\"The harder you WORK, the harder it is to SURRENDER\"- <em>Marv Levy, Buffalo Bills</em></li>, <li>\"If you want to WIN, do the ordinary things BETTER than anyone else does them day in and day out.\"- <em>Chuck Noll, Pittsburgh Steelers</em></li>, <li>\"Life is TEN percent what happens to you, and NINETY percent how you respond to it.\" - <em>Lou Holtz</em></li>, <li>\"You FAIL all of the time. But you aren't a FAILURE until you start blaming someone else\"- <em>Bum Phillips, Houston Texans</em></li>, <li>\"If you're not IN the parade, you WATCH the parade. That's life.\"- <em>Mike Ditka, Chicago Bears</em></li>, <li>\"The ONLY discipline that lasts, is SELF discipline\"- <em>Bum Phillips</em></li>, <li>\"Today I will do what other WON'T, so tomorrow I can accomplish what others CAN'T\" - <em>Jerry Rice, San Francisco 49ers</em></li>, <li>\"How do you WIN? By getting average players to play good and good players to play great. That's how you WIN.\"- <em>Bum Phillips</em></li>, <li>\"Work isn't WORK unless you would rather be DOING something else,\"- <em>Don Shula, Miami Dolphins</em></li>, <li>\"Coaching is not how much you KNOW. It's how much you can get players to DO.\" - <em>Bum Phillips</em></li>, <li>\"For EVERY pass I caught in a game, I caught a THOUSAND in practice.\"- <em>Don Hutson, Green Bay Packers</em></li>, <li>\"Remember, TOMORROW is promised to no ONE.\"- <em>Walter Payton</em></li>, <li>\"We would ACCOMPLISH many more things if we did not think of them as IMPOSSIBLE.\"- <em>Vince Lombardi</em></li>, <li>\"It takes 20 YEARS to build a reputation and 5 MINUTES to ruin it.\"- <em>Peyton Manning, Denver Broncos</em></li>, <li>\"There is NO substitute for WORK.\"- <em>Vince Lombardi</em></li>, <li>\"Winning isn't getting ahead of OTHERS. It's getting ahead of YOURSELF.\"- <em>Roger Staubach, Dallas Cowboys</em></li>, <li>\"Once you LEARN to quit, it becomes a HABIT.\"- <em>Vince Lombardi</em></li>, <li>\"In order to WIN the game, you must first not LOSE it.\"- <em>Chuck Noll</em></li>, <li>\"If you're not gonna go ALL the way, why go at ALL?\"- <em>Joe Namath, New York Jets</em></li>, <li>\"It's not whether you get knocked DOWN, it's whether you get UP.\"- <em>Vince Lombardi</em></li>, <li class=\"footer__item\"><a class=\"footer__link\" href=\"//www.mansueto.com/privacy-policy/\" title=\"Get more information about Privacy policy on Inc.com\">Privacy policy</a></li>, <li class=\"footer__item\"><a class=\"footer__link\" href=\"//www.mansueto.com/privacy-policy/#collection\" title=\"Get more information about Notice of collection on Inc.com\">Notice of collection</a></li>, <li class=\"footer__item\"><a class=\"footer__link\" href=\"//incmagazine.zendesk.com/hc/en-us/requests/new\" title=\"Get more information about do not sell my data on Inc.com\">do not sell my data</a></li>, <li class=\"footer__item\"><a class=\"footer__link\" href=\"//www.mansueto.com/vendor-policies.html\" title=\"Get more information about Ad vendor policy on Inc.com\">Ad vendor policy</a></li>, <li class=\"footer__item\"><a class=\"footer__link\" href=\"//www.mansueto.com/terms-of-service\" title=\"Get more information about terms of use on Inc.com\">terms of use</a></li>, <li class=\"footer__item\"><a class=\"footer__link\" href=\"//mediakit.inc.com/\" title=\"Get more information about Advertise on Inc.com\">Advertise</a></li>, <li class=\"footer__item\"><a class=\"footer__link\" href=\"//incmagazine.zendesk.com/hc/en-us\" title=\"Get more information about help Center on Inc.com\">help Center</a></li>, <li class=\"footer__item\"><a class=\"footer__link\" href=\"//www.inc.com/sitemaps\" title=\"Get more information about sitemap on Inc.com\">sitemap</a></li>]\n",
      "[<div class=\"standardText\"><p>Perseverance. Adversity. Triumph. Defeat. We see it all left on the field, as <span style=\"display:none\"> </span><a href=\"https://www.inc.com/mandy-antoniacci/ny-jets-to-the-pittsburgh-steelers-forget-the-farm-were-betting-a-porsche.html\">football </a>season is officially upon us.</p></div>, <div class=\"standardText\"><p>Despite their physical prowess, <a href=\"https://www.inc.com/mandy-antoniacci/are-brains-the-new-biceps-why-mental-training-is-the-new-game-in-town.html\">mental toughness</a> and myopic focus, every NFL player on the field seeks motivation to get in the zone for <a href=\"https://www.inc.com/mandy-antoniacci/new-data-reveals-parents-invest-in-their-kids-sport-over-retirement.html\">game day</a>. From pregame pep talks, to post game speeches, the powerful rhetoric of Coaches and team leaders is indisputably transformational in leading their cities and towns to victory.</p></div>, <div class=\"standardText\"><p>Here's a collection of my favorite motivational quotes from legendary NFL greats. Use these, as I do, to elevate your game.</p></div>, <div class=\"standardText\"><ol> <li>\"It's not the SIZE of the dog in the fight, but the size of the FIGHT in the dog\". - <em>Archie Griffin, Cincinnati Bengals</em></li> <li>\"When you're GOOD at something, you'll tell everyone. When you're GREAT at something, they'll tell you.\"- <em>Walter Payton, Chicago Bears</em></li> <li>\"WINNING is not everything--but making the EFFORT to win is\"- <em>Vince Lombardi, Green Bay Packers</em></li> <li>\"If what you did YESTERDAY seems big, you haven't done anything TODAY.\"- <em>Lou Holtz, New York Jets</em></li> <li>\"A CHAMPION is simply someone who did NOT give up when they wanted to.\"- <em>Tom Landry, Dallas Cowboys</em></li> <li>\"The man who complains about the way the ball BOUNCES is likely the one who DROPPED it.\" - <em>Lou Holtz</em></li> <li>\"If it doesn't matter who WINS or loses, then why do they keep SCORE.\" - <em>Vince Lombardi</em></li> <li>\"Your TALENT determines what you can do. Your MOTIVATION determines how much you are willing to do. Your ATTITUDE determines how well you do it.\" - <em>Lou Holtz</em></li> <li>\"The harder you WORK, the harder it is to SURRENDER\"- <em>Marv Levy, Buffalo Bills</em></li> <li>\"If you want to WIN, do the ordinary things BETTER than anyone else does them day in and day out.\"- <em>Chuck Noll, Pittsburgh Steelers</em></li> <li>\"Life is TEN percent what happens to you, and NINETY percent how you respond to it.\" - <em>Lou Holtz</em></li> <li>\"You FAIL all of the time. But you aren't a FAILURE until you start blaming someone else\"- <em>Bum Phillips, Houston Texans</em></li> <li>\"If you're not IN the parade, you WATCH the parade. That's life.\"- <em>Mike Ditka, Chicago Bears</em></li> <li>\"The ONLY discipline that lasts, is SELF discipline\"- <em>Bum Phillips</em></li> <li>\"Today I will do what other WON'T, so tomorrow I can accomplish what others CAN'T\" - <em>Jerry Rice, San Francisco 49ers</em></li> <li>\"How do you WIN? By getting average players to play good and good players to play great. That's how you WIN.\"- <em>Bum Phillips</em></li> <li>\"Work isn't WORK unless you would rather be DOING something else,\"- <em>Don Shula, Miami Dolphins</em></li> <li>\"Coaching is not how much you KNOW. It's how much you can get players to DO.\" - <em>Bum Phillips</em></li> <li>\"For EVERY pass I caught in a game, I caught a THOUSAND in practice.\"- <em>Don Hutson, Green Bay Packers</em></li> <li>\"Remember, TOMORROW is promised to no ONE.\"- <em>Walter Payton</em></li> <li>\"We would ACCOMPLISH many more things if we did not think of them as IMPOSSIBLE.\"- <em>Vince Lombardi</em></li> <li>\"It takes 20 YEARS to build a reputation and 5 MINUTES to ruin it.\"- <em>Peyton Manning, Denver Broncos</em></li> <li>\"There is NO substitute for WORK.\"- <em>Vince Lombardi</em></li> <li>\"Winning isn't getting ahead of OTHERS. It's getting ahead of YOURSELF.\"- <em>Roger Staubach, Dallas Cowboys</em></li> <li>\"Once you LEARN to quit, it becomes a HABIT.\"- <em>Vince Lombardi</em></li> <li>\"In order to WIN the game, you must first not LOSE it.\"- <em>Chuck Noll</em></li> <li>\"If you're not gonna go ALL the way, why go at ALL?\"- <em>Joe Namath, New York Jets</em></li> <li>\"It's not whether you get knocked DOWN, it's whether you get UP.\"- <em>Vince Lombardi</em></li></ol></div>, <div class=\"standardText lastItem\"><p></p></div>]\n"
     ]
    }
   ],
   "source": [
    "html= browser.html\n",
    "soup = BeautifulSoup(html, 'html.parser')\n",
    "\n",
    "quotes = soup.find_all(\"div\", class_='standardText')\n",
    "nfl = soup.find_all('li')\n",
    "print(nfl) \n",
    "print(quotes)\n",
    "csv_path = os.path.join(\"quotes.csv\")\n",
    "with open(csv_path, 'w' )as csvfile:\n",
    "    # Initialize csv.writer\n",
    "    csvwriter = csv.writer(csvfile, delimiter=',')\n",
    "     # Write the first row (column headers)\n",
    "    csvwriter.writerow(['quotes'])\n",
    "    for quote in nfl:\n",
    "        t= quote.get_text()\n",
    "        if len(t)>2:\n",
    "             csvwriter.writerow([t])"
   ]
  },
  {
   "cell_type": "code",
   "execution_count": 101,
   "metadata": {},
   "outputs": [
    {
     "data": {
      "text/plain": [
       "'quotes.csv'"
      ]
     },
     "execution_count": 101,
     "metadata": {},
     "output_type": "execute_result"
    }
   ],
   "source": [
    "# file = ('quotes.csv')\n",
    "# file"
   ]
  },
  {
   "cell_type": "code",
   "execution_count": 102,
   "metadata": {},
   "outputs": [],
   "source": [
    "nfl_df = pd.read_csv(file, encoding=\"ISO-8859-1\")"
   ]
  },
  {
   "cell_type": "code",
   "execution_count": 103,
   "metadata": {},
   "outputs": [
    {
     "data": {
      "text/html": [
       "<div>\n",
       "<style scoped>\n",
       "    .dataframe tbody tr th:only-of-type {\n",
       "        vertical-align: middle;\n",
       "    }\n",
       "\n",
       "    .dataframe tbody tr th {\n",
       "        vertical-align: top;\n",
       "    }\n",
       "\n",
       "    .dataframe thead th {\n",
       "        text-align: right;\n",
       "    }\n",
       "</style>\n",
       "<table border=\"1\" class=\"dataframe\">\n",
       "  <thead>\n",
       "    <tr style=\"text-align: right;\">\n",
       "      <th></th>\n",
       "      <th>quotes</th>\n",
       "    </tr>\n",
       "  </thead>\n",
       "  <tbody>\n",
       "    <tr>\n",
       "      <th>0</th>\n",
       "      <td>Newsletters</td>\n",
       "    </tr>\n",
       "    <tr>\n",
       "      <th>1</th>\n",
       "      <td>Lead</td>\n",
       "    </tr>\n",
       "    <tr>\n",
       "      <th>2</th>\n",
       "      <td>Innovate</td>\n",
       "    </tr>\n",
       "    <tr>\n",
       "      <th>3</th>\n",
       "      <td>Grow</td>\n",
       "    </tr>\n",
       "    <tr>\n",
       "      <th>4</th>\n",
       "      <td>navigation</td>\n",
       "    </tr>\n",
       "    <tr>\n",
       "      <th>...</th>\n",
       "      <td>...</td>\n",
       "    </tr>\n",
       "    <tr>\n",
       "      <th>103</th>\n",
       "      <td>Ad vendor policy</td>\n",
       "    </tr>\n",
       "    <tr>\n",
       "      <th>104</th>\n",
       "      <td>terms of use</td>\n",
       "    </tr>\n",
       "    <tr>\n",
       "      <th>105</th>\n",
       "      <td>Advertise</td>\n",
       "    </tr>\n",
       "    <tr>\n",
       "      <th>106</th>\n",
       "      <td>help Center</td>\n",
       "    </tr>\n",
       "    <tr>\n",
       "      <th>107</th>\n",
       "      <td>sitemap</td>\n",
       "    </tr>\n",
       "  </tbody>\n",
       "</table>\n",
       "<p>108 rows × 1 columns</p>\n",
       "</div>"
      ],
      "text/plain": [
       "               quotes\n",
       "0         Newsletters\n",
       "1                Lead\n",
       "2            Innovate\n",
       "3                Grow\n",
       "4          navigation\n",
       "..                ...\n",
       "103  Ad vendor policy\n",
       "104      terms of use\n",
       "105         Advertise\n",
       "106       help Center\n",
       "107           sitemap\n",
       "\n",
       "[108 rows x 1 columns]"
      ]
     },
     "execution_count": 103,
     "metadata": {},
     "output_type": "execute_result"
    }
   ],
   "source": [
    "# nfl_df"
   ]
  },
  {
   "cell_type": "code",
   "execution_count": null,
   "metadata": {},
   "outputs": [],
   "source": []
  },
  {
   "cell_type": "code",
   "execution_count": null,
   "metadata": {},
   "outputs": [],
   "source": []
  }
 ],
 "metadata": {
  "kernelspec": {
   "display_name": "Python 3",
   "language": "python",
   "name": "python3"
  },
  "language_info": {
   "codemirror_mode": {
    "name": "ipython",
    "version": 3
   },
   "file_extension": ".py",
   "mimetype": "text/x-python",
   "name": "python",
   "nbconvert_exporter": "python",
   "pygments_lexer": "ipython3",
   "version": "3.7.7"
  }
 },
 "nbformat": 4,
 "nbformat_minor": 4
}
